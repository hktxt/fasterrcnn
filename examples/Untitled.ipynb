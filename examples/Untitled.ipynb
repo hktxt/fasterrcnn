{
 "cells": [
  {
   "cell_type": "code",
   "execution_count": 4,
   "metadata": {},
   "outputs": [
    {
     "name": "stderr",
     "output_type": "stream",
     "text": [
      "C:\\Users\\Max\\Anaconda3\\envs\\pytorch\\lib\\site-packages\\torch\\nn\\modules\\container.py:16: UserWarning: nn.Container is deprecated. All of it's functionality is now implemented in nn.Module. Subclass that instead.\n",
      "  warnings.warn(\"nn.Container is deprecated. All of it's functionality \"\n",
      "Traceback (most recent call last):\n",
      "  File \"main.py\", line 166, in <module>\n",
      "    train(train_loader, model, optimizer, epoch)\n",
      "  File \"main.py\", line 80, in train\n",
      "    for i, (im, gt) in (enumerate(train_loader)):\n",
      "  File \"C:\\Users\\Max\\Anaconda3\\envs\\pytorch\\lib\\site-packages\\torch\\utils\\data\\dataloader.py\", line 615, in __next__\n",
      "    batch = self.collate_fn([self.dataset[i] for i in indices])\n",
      "  File \"C:\\Users\\Max\\Anaconda3\\envs\\pytorch\\lib\\site-packages\\torch\\utils\\data\\dataloader.py\", line 615, in <listcomp>\n",
      "    batch = self.collate_fn([self.dataset[i] for i in indices])\n",
      "  File \"E:\\condaDev\\Faster-RCNN\\examples\\voc.py\", line 110, in __getitem__\n",
      "    target = self.target_transform(target)\n",
      "  File \"E:\\condaDev\\Faster-RCNN\\examples\\voc.py\", line 44, in __call__\n",
      "    'boxes': torch.LongTensor(boxes),\n",
      "TypeError: an integer is required (got type map)\n"
     ]
    }
   ],
   "source": [
    "! python main.py E:/data/voc07/VOCdevkit/"
   ]
  },
  {
   "cell_type": "code",
   "execution_count": 1,
   "metadata": {},
   "outputs": [],
   "source": [
    "import torch.nn as nn\n",
    "from roi_pooling import roi_pooling as _roi_pooling\n",
    "\n",
    "from rpn import RPN as _RPN\n",
    "from faster_rcnn import FasterRCNN as _FasterRCNN\n",
    "\n",
    "class _Features(nn.Container):\n",
    "  def __init__(self):\n",
    "    super(_Features, self).__init__()\n",
    "    self.m = nn.Conv2d(3, 3, 3, 16, 1)\n",
    "\n",
    "  def forward(self, x):\n",
    "    return self.m(x)\n",
    "\n",
    "class _Classifier(nn.Container):\n",
    "  def __init__(self):\n",
    "    super(_Classifier, self).__init__()\n",
    "    self.m1 = nn.Linear(3*7*7, 21)\n",
    "    self.m2 = nn.Linear(3*7*7, 21*4)\n",
    "\n",
    "  def forward(self, x):\n",
    "    return self.m1(x), self.m2(x)\n",
    "\n",
    "def _pooler(x, rois):\n",
    "  x = _roi_pooling(x, rois, size=(7,7), spatial_scale=1.0/16.0)\n",
    "  return x.view(x.size(0), -1)\n",
    "\n",
    "class _RPNClassifier(nn.Container):\n",
    "  def __init__(self, n):\n",
    "    super(_RPNClassifier, self).__init__()\n",
    "    self.m1 = nn.Conv2d(n, 18, 3, 1, 1)\n",
    "    self.m2 = nn.Conv2d(n, 36, 3, 1, 1)\n",
    "\n",
    "  def forward(self, x):\n",
    "    return self.m1(x), self.m2(x)\n",
    "\n",
    "def model():\n",
    "  _features = _Features()\n",
    "  _classifier = _Classifier()\n",
    "  _rpn_classifier = _RPNClassifier(3)\n",
    "\n",
    "  _rpn = _RPN(\n",
    "    classifier=_rpn_classifier\n",
    "  )\n",
    "  _model = _FasterRCNN(\n",
    "    features=_features,\n",
    "    pooler=_pooler,\n",
    "    classifier=_classifier,\n",
    "    rpn=_rpn\n",
    "  )\n",
    "  return _model"
   ]
  },
  {
   "cell_type": "code",
   "execution_count": 2,
   "metadata": {},
   "outputs": [
    {
     "name": "stderr",
     "output_type": "stream",
     "text": [
      "C:\\Users\\Max\\Anaconda3\\envs\\pytorch\\lib\\site-packages\\torch\\nn\\modules\\container.py:16: UserWarning: nn.Container is deprecated. All of it's functionality is now implemented in nn.Module. Subclass that instead.\n",
      "  warnings.warn(\"nn.Container is deprecated. All of it's functionality \"\n"
     ]
    }
   ],
   "source": [
    "net = model()"
   ]
  },
  {
   "cell_type": "code",
   "execution_count": 3,
   "metadata": {},
   "outputs": [
    {
     "data": {
      "text/plain": [
       "FasterRCNN(\n",
       "  (features): _Features(\n",
       "    (m): Conv2d(3, 3, kernel_size=(3, 3), stride=(16, 16), padding=(1, 1))\n",
       "  )\n",
       "  (rpn): RPN(\n",
       "    (rpn_classifier): _RPNClassifier(\n",
       "      (m1): Conv2d(3, 18, kernel_size=(3, 3), stride=(1, 1), padding=(1, 1))\n",
       "      (m2): Conv2d(3, 36, kernel_size=(3, 3), stride=(1, 1), padding=(1, 1))\n",
       "    )\n",
       "  )\n",
       "  (classifier): _Classifier(\n",
       "    (m1): Linear(in_features=147, out_features=21, bias=True)\n",
       "    (m2): Linear(in_features=147, out_features=84, bias=True)\n",
       "  )\n",
       ")"
      ]
     },
     "execution_count": 3,
     "metadata": {},
     "output_type": "execute_result"
    }
   ],
   "source": [
    "net"
   ]
  },
  {
   "cell_type": "code",
   "execution_count": null,
   "metadata": {},
   "outputs": [],
   "source": []
  }
 ],
 "metadata": {
  "kernelspec": {
   "display_name": "Python 3",
   "language": "python",
   "name": "python3"
  },
  "language_info": {
   "codemirror_mode": {
    "name": "ipython",
    "version": 3
   },
   "file_extension": ".py",
   "mimetype": "text/x-python",
   "name": "python",
   "nbconvert_exporter": "python",
   "pygments_lexer": "ipython3",
   "version": "3.5.6"
  }
 },
 "nbformat": 4,
 "nbformat_minor": 2
}
