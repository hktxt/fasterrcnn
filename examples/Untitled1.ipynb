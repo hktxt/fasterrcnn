{
 "cells": [
  {
   "cell_type": "code",
   "execution_count": 1,
   "metadata": {},
   "outputs": [],
   "source": [
    "# %load roi_pooling.py\n",
    "import torch\n",
    "import torch.nn as nn\n",
    "import torch.autograd as ag\n",
    "import math\n",
    "\n",
    "from torch.autograd.function import Function\n",
    "from torch._thnn import type2backend\n",
    "\n",
    "\n",
    "class AdaptiveMaxPool2d(Function):\n",
    "    def __init__(self, out_w, out_h):\n",
    "        super(AdaptiveMaxPool2d, self).__init__()\n",
    "        self.out_w = out_w\n",
    "        self.out_h = out_h\n",
    "\n",
    "    def forward(self, input):\n",
    "        output = input.new()\n",
    "        indices = input.new().long()\n",
    "        self.save_for_backward(input)\n",
    "        self.indices = indices\n",
    "        #self._backend = type2backend[type(input)]\n",
    "        self._backend = type2backend[input.type()]\n",
    "        self._backend.SpatialAdaptiveMaxPooling_updateOutput(\n",
    "                self._backend.library_state, input, output, indices,\n",
    "                self.out_w, self.out_h)\n",
    "        return output\n",
    "\n",
    "    def backward(self, grad_output):\n",
    "        input, = self.saved_tensors\n",
    "        indices = self.indices\n",
    "        grad_input = grad_output.new()\n",
    "        self._backend.SpatialAdaptiveMaxPooling_updateGradInput(\n",
    "                self._backend.library_state, input, grad_output, grad_input,\n",
    "                indices)\n",
    "        return grad_input, None\n",
    "\n",
    "def adaptive_max_pool(input, size):\n",
    "    return AdaptiveMaxPool2d(size[0],size[1])(input)\n",
    "\n",
    "def roi_pooling(input, rois, size=(7,7), spatial_scale=1.0):\n",
    "    assert(rois.dim() == 2)\n",
    "    assert(rois.size(1) == 5)\n",
    "    output = []\n",
    "    rois = rois.data.float()\n",
    "    num_rois = rois.size(0)\n",
    "    \n",
    "    rois[:,1:].mul_(spatial_scale)\n",
    "    rois = rois.long()\n",
    "    for i in range(num_rois):\n",
    "        roi = rois[i]\n",
    "        im_idx = roi[0]\n",
    "        im = input.narrow(0, im_idx, 1)[..., roi[2]:(roi[4]+1), roi[1]:(roi[3]+1)]\n",
    "        output.append(adaptive_max_pool(im, size))\n",
    "\n",
    "    return torch.cat(output, 0)\n",
    "\n",
    "def roi_pooling1(input, rois, size=(7,7), spatial_scale=1.0):\n",
    "    assert(rois.dim() == 2)\n",
    "    assert(rois.size(1) == 4)\n",
    "    output = []\n",
    "    rois = rois.data.float()\n",
    "    num_rois = rois.size(0)\n",
    "    \n",
    "    rois.mul_(spatial_scale)\n",
    "    rois = rois.long()\n",
    "    for i in range(num_rois):\n",
    "        roi = rois[i]\n",
    "        im_idx = roi[0]\n",
    "        im = input.narrow(0, im_idx, 1)[..., roi[1]:(roi[3]+1), roi[0]:(roi[2]+1)]\n",
    "        output.append(adaptive_max_pool(im, size))\n",
    "\n",
    "    return torch.cat(output, 0)\n"
   ]
  },
  {
   "cell_type": "code",
   "execution_count": 8,
   "metadata": {},
   "outputs": [],
   "source": [
    "inp = ag.Variable(torch.rand(1,1,10,10), requires_grad=True)\n",
    "#rois = ag.Variable(torch.LongTensor([[0,1,2,7,8],[0,3,3,8,8]]),requires_grad=False)\n",
    "rois = ag.Variable(torch.LongTensor([[0,3,3,8,8]]),requires_grad=False)\n",
    "\n",
    "out = adaptive_max_pool(inp,(3,3))\n",
    "out.backward(out.data.clone().uniform_())\n",
    "\n",
    "out = roi_pooling(inp, rois, size=(3,3))\n",
    "out.backward(out.data.clone().uniform_())"
   ]
  },
  {
   "cell_type": "code",
   "execution_count": 11,
   "metadata": {},
   "outputs": [
    {
     "data": {
      "text/plain": [
       "5"
      ]
     },
     "execution_count": 11,
     "metadata": {},
     "output_type": "execute_result"
    }
   ],
   "source": [
    "rois.size(1)"
   ]
  },
  {
   "cell_type": "code",
   "execution_count": 12,
   "metadata": {},
   "outputs": [
    {
     "data": {
      "text/plain": [
       "2"
      ]
     },
     "execution_count": 12,
     "metadata": {},
     "output_type": "execute_result"
    }
   ],
   "source": [
    "rois.dim()"
   ]
  },
  {
   "cell_type": "code",
   "execution_count": null,
   "metadata": {},
   "outputs": [],
   "source": []
  }
 ],
 "metadata": {
  "kernelspec": {
   "display_name": "Python 3",
   "language": "python",
   "name": "python3"
  },
  "language_info": {
   "codemirror_mode": {
    "name": "ipython",
    "version": 3
   },
   "file_extension": ".py",
   "mimetype": "text/x-python",
   "name": "python",
   "nbconvert_exporter": "python",
   "pygments_lexer": "ipython3",
   "version": "3.6.7"
  }
 },
 "nbformat": 4,
 "nbformat_minor": 2
}
