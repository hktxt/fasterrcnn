{
 "cells": [
  {
   "cell_type": "code",
   "execution_count": 2,
   "metadata": {},
   "outputs": [
    {
     "name": "stdout",
     "output_type": "stream",
     "text": [
      "Downloading http://yann.lecun.com/exdb/mnist/train-images-idx3-ubyte.gz to mnist_train\\MNIST\\raw\\train-images-idx3-ubyte.gz\n"
     ]
    },
    {
     "name": "stderr",
     "output_type": "stream",
     "text": [
      "100%|█████████▉| 9887744/9912422 [01:53<00:00, 109040.41it/s]"
     ]
    },
    {
     "name": "stdout",
     "output_type": "stream",
     "text": [
      "Extracting mnist_train\\MNIST\\raw\\train-images-idx3-ubyte.gz\n",
      "Downloading http://yann.lecun.com/exdb/mnist/train-labels-idx1-ubyte.gz to mnist_train\\MNIST\\raw\\train-labels-idx1-ubyte.gz\n"
     ]
    },
    {
     "name": "stderr",
     "output_type": "stream",
     "text": [
      "\n",
      "0it [00:00, ?it/s]\n",
      "  0%|          | 0/28881 [00:01<?, ?it/s]\n",
      " 28%|██▊       | 8192/28881 [00:01<00:01, 16326.84it/s]\n",
      "32768it [00:01, 17822.43it/s]                          "
     ]
    },
    {
     "name": "stdout",
     "output_type": "stream",
     "text": [
      "Extracting mnist_train\\MNIST\\raw\\train-labels-idx1-ubyte.gz\n",
      "Downloading http://yann.lecun.com/exdb/mnist/t10k-images-idx3-ubyte.gz to mnist_train\\MNIST\\raw\\t10k-images-idx3-ubyte.gz\n"
     ]
    },
    {
     "name": "stderr",
     "output_type": "stream",
     "text": [
      "\n",
      "0it [00:00, ?it/s]\n",
      "  0%|          | 0/1648877 [00:01<?, ?it/s]\n",
      "  1%|          | 16384/1648877 [00:02<01:51, 14694.15it/s]\n",
      "  5%|▍         | 81920/1648877 [00:02<01:19, 19740.41it/s]\n",
      "  7%|▋         | 122880/1648877 [00:03<01:00, 25217.61it/s]\n",
      " 10%|█         | 172032/1648877 [00:04<00:46, 31946.53it/s]\n",
      " 12%|█▏        | 204800/1648877 [00:04<00:39, 36838.53it/s]\n",
      " 17%|█▋        | 278528/1648877 [00:05<00:29, 46797.54it/s]\n",
      " 20%|██        | 335872/1648877 [00:05<00:23, 55599.56it/s]\n",
      " 24%|██▍       | 401408/1648877 [00:06<00:19, 65581.81it/s]\n",
      " 26%|██▋       | 434176/1648877 [00:06<00:18, 65539.81it/s]\n",
      " 32%|███▏      | 532480/1648877 [00:07<00:14, 77128.35it/s]\n",
      " 33%|███▎      | 548864/1648877 [00:10<01:04, 16969.92it/s]\n",
      " 37%|███▋      | 614400/1648877 [00:10<00:45, 22958.20it/s]\n",
      " 43%|████▎     | 704512/1648877 [00:11<00:30, 30717.39it/s]\n",
      " 48%|████▊     | 794624/1648877 [00:12<00:21, 40474.26it/s]\n",
      " 54%|█████▎    | 884736/1648877 [00:12<00:14, 52034.58it/s]\n",
      " 60%|█████▉    | 983040/1648877 [00:13<00:10, 65722.25it/s]\n",
      "9920512it [02:10, 109040.41it/s]                             \n",
      " 73%|███████▎  | 1204224/1648877 [00:14<00:04, 98145.92it/s]\n",
      " 77%|███████▋  | 1269760/1648877 [00:15<00:03, 102833.90it/s]\n",
      " 81%|████████▏ | 1343488/1648877 [00:15<00:02, 112083.45it/s]\n",
      " 91%|█████████ | 1499136/1648877 [00:16<00:01, 133498.04it/s]\n",
      " 96%|█████████▌| 1581056/1648877 [00:16<00:00, 135922.06it/s]"
     ]
    },
    {
     "name": "stdout",
     "output_type": "stream",
     "text": [
      "Extracting mnist_train\\MNIST\\raw\\t10k-images-idx3-ubyte.gz\n",
      "Downloading http://yann.lecun.com/exdb/mnist/t10k-labels-idx1-ubyte.gz to mnist_train\\MNIST\\raw\\t10k-labels-idx1-ubyte.gz\n"
     ]
    },
    {
     "name": "stderr",
     "output_type": "stream",
     "text": [
      "\n",
      "\n",
      "0it [00:00, ?it/s]\n",
      "\n",
      "  0%|          | 0/4542 [00:01<?, ?it/s]\n",
      "\n",
      "8192it [00:01, 7014.33it/s]             "
     ]
    },
    {
     "name": "stdout",
     "output_type": "stream",
     "text": [
      "Extracting mnist_train\\MNIST\\raw\\t10k-labels-idx1-ubyte.gz\n",
      "Processing...\n",
      "Done!\n"
     ]
    },
    {
     "name": "stderr",
     "output_type": "stream",
     "text": [
      "\n",
      "1654784it [00:34, 135922.06it/s]                             "
     ]
    }
   ],
   "source": [
    "import torch\n",
    "import torchvision\n",
    "from torch.utils.tensorboard import SummaryWriter\n",
    "from torchvision import datasets, transforms\n",
    "\n",
    "# Writer will output to ./runs/ directory by default\n",
    "writer = SummaryWriter()\n",
    "\n",
    "transform = transforms.Compose([transforms.ToTensor(), transforms.Normalize((0.5,), (0.5,))])\n",
    "trainset = datasets.MNIST('mnist_train', train=True, download=True, transform=transform)\n",
    "trainloader = torch.utils.data.DataLoader(trainset, batch_size=64, shuffle=True)\n",
    "model = torchvision.models.resnet50(False)\n",
    "# Have ResNet model take in grayscale rather than RGB\n",
    "model.conv1 = torch.nn.Conv2d(1, 64, kernel_size=7, stride=2, padding=3, bias=False)\n",
    "images, labels = next(iter(trainloader))\n",
    "\n",
    "grid = torchvision.utils.make_grid(images)\n",
    "writer.add_image('images', grid, 0)\n",
    "writer.add_graph(model, images)\n",
    "writer.close()"
   ]
  },
  {
   "cell_type": "code",
   "execution_count": 2,
   "metadata": {},
   "outputs": [
    {
     "data": {
      "text/plain": [
       "'1.1.0'"
      ]
     },
     "execution_count": 2,
     "metadata": {},
     "output_type": "execute_result"
    }
   ],
   "source": [
    "import torch\n",
    "torch.__version__"
   ]
  },
  {
   "cell_type": "code",
   "execution_count": null,
   "metadata": {},
   "outputs": [],
   "source": []
  }
 ],
 "metadata": {
  "kernelspec": {
   "display_name": "Python 3",
   "language": "python",
   "name": "python3"
  },
  "language_info": {
   "codemirror_mode": {
    "name": "ipython",
    "version": 3
   },
   "file_extension": ".py",
   "mimetype": "text/x-python",
   "name": "python",
   "nbconvert_exporter": "python",
   "pygments_lexer": "ipython3",
   "version": "3.7.3"
  }
 },
 "nbformat": 4,
 "nbformat_minor": 2
}
