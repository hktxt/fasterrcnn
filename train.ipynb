{
 "cells": [
  {
   "cell_type": "code",
   "execution_count": 1,
   "metadata": {},
   "outputs": [],
   "source": [
    "import os\n",
    "import torch"
   ]
  },
  {
   "cell_type": "code",
   "execution_count": 2,
   "metadata": {},
   "outputs": [],
   "source": [
    "# specify visible GPUs\n",
    "os.environ[\"CUDA_VISIBLE_DEVICES\"] = '4,5,6,7'\n",
    "if torch.cuda.is_available():\n",
    "    nCUDAs = torch.cuda.device_count()\n",
    "    if nCUDAs:\n",
    "        for i in range(nCUDAs):\n",
    "            #print('{}/{}:{}'.format(i+1, nCUDAs, torch.cuda.get_device_name(i)))\n",
    "            print('{}/{}:{}'.format(i+1, nCUDAs, torch.cuda.get_device_properties(i)))"
   ]
  },
  {
   "cell_type": "code",
   "execution_count": null,
   "metadata": {},
   "outputs": [],
   "source": []
  }
 ],
 "metadata": {
  "kernelspec": {
   "display_name": "Python 3",
   "language": "python",
   "name": "python3"
  },
  "language_info": {
   "codemirror_mode": {
    "name": "ipython",
    "version": 3
   },
   "file_extension": ".py",
   "mimetype": "text/x-python",
   "name": "python",
   "nbconvert_exporter": "python",
   "pygments_lexer": "ipython3",
   "version": "3.5.6"
  }
 },
 "nbformat": 4,
 "nbformat_minor": 2
}
